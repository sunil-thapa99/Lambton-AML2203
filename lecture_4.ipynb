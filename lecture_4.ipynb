{
 "cells": [
  {
   "cell_type": "code",
   "execution_count": 2,
   "metadata": {},
   "outputs": [
    {
     "name": "stdout",
     "output_type": "stream",
     "text": [
      "Collecting pymongo\n",
      "  Downloading pymongo-4.3.3.tar.gz (814 kB)\n",
      "\u001b[2K     \u001b[90m━━━━━━━━━━━━━━━━━━━━━━━━━━━━━━━━━━━━━━━\u001b[0m \u001b[32m814.2/814.2 kB\u001b[0m \u001b[31m2.4 MB/s\u001b[0m eta \u001b[36m0:00:00\u001b[0ma \u001b[36m0:00:01\u001b[0m\n",
      "\u001b[?25h  Preparing metadata (setup.py) ... \u001b[?25ldone\n",
      "\u001b[?25hCollecting dnspython<3.0.0,>=1.16.0\n",
      "  Using cached dnspython-2.3.0-py3-none-any.whl (283 kB)\n",
      "Building wheels for collected packages: pymongo\n",
      "  Building wheel for pymongo (setup.py) ... \u001b[?25ldone\n",
      "\u001b[?25h  Created wheel for pymongo: filename=pymongo-4.3.3-cp38-cp38-macosx_11_0_arm64.whl size=382800 sha256=56b16dcea6dde6b2b93ec997b253f044849c7c263cf6ae5e289eddffce572cea\n",
      "  Stored in directory: /Users/sunilthapa/Library/Caches/pip/wheels/3f/bb/81/58fd3d8baa1be597774a2922eaae9cb5fe9c56d2cff535205f\n",
      "Successfully built pymongo\n",
      "Installing collected packages: dnspython, pymongo\n",
      "Successfully installed dnspython-2.3.0 pymongo-4.3.3\n"
     ]
    }
   ],
   "source": [
    "!pip install pymongo"
   ]
  },
  {
   "cell_type": "code",
   "execution_count": 1,
   "metadata": {},
   "outputs": [],
   "source": [
    "import pymongo"
   ]
  },
  {
   "cell_type": "code",
   "execution_count": 2,
   "metadata": {},
   "outputs": [],
   "source": [
    "from pymongo import MongoClient"
   ]
  },
  {
   "cell_type": "code",
   "execution_count": 3,
   "metadata": {},
   "outputs": [],
   "source": [
    "client = MongoClient()"
   ]
  },
  {
   "cell_type": "code",
   "execution_count": 4,
   "metadata": {},
   "outputs": [],
   "source": [
    "db = client.test"
   ]
  },
  {
   "cell_type": "code",
   "execution_count": 5,
   "metadata": {},
   "outputs": [],
   "source": [
    "employee = db.employee"
   ]
  },
  {
   "cell_type": "code",
   "execution_count": 6,
   "metadata": {},
   "outputs": [],
   "source": [
    "employee_details = {\n",
    "    'Name': 'Raj Kumar',\n",
    "    'Address': 'Sears Street, NZ',\n",
    "    'Age': '42'\n",
    "}"
   ]
  },
  {
   "cell_type": "code",
   "execution_count": 7,
   "metadata": {},
   "outputs": [],
   "source": [
    "result = employee.insert_one(employee_details)"
   ]
  },
  {
   "cell_type": "code",
   "execution_count": 8,
   "metadata": {},
   "outputs": [
    {
     "name": "stdout",
     "output_type": "stream",
     "text": [
      "63d46279d6b11726fafa8999\n"
     ]
    }
   ],
   "source": [
    "print(result.inserted_id)"
   ]
  },
  {
   "cell_type": "code",
   "execution_count": 23,
   "metadata": {},
   "outputs": [],
   "source": [
    "mylist = [\n",
    "    {\"_id\":10,\"name\":\"John\",\"address\":\"Highway 37\"},\n",
    "    {\"_id\":20,\"name\":\"Peter\",\"address\":\"Lowstreet 27\"},\n",
    "    {\"_id\":33,\"name\":\"Amy\",\"address\":\"Apple st 652\"},\n",
    "    {\"_id\":44,\"name\":\"Hannah\",\"address\":\"Mountain 21\"},\n",
    "    {\"_id\":55,\"name\":\"Michael\",\"address\":\"Valley 345\"}\n",
    "]"
   ]
  },
  {
   "cell_type": "code",
   "execution_count": 24,
   "metadata": {},
   "outputs": [
    {
     "name": "stdout",
     "output_type": "stream",
     "text": [
      "[10, 20, 33, 44, 55]\n"
     ]
    }
   ],
   "source": [
    "x = employee.insert_many(mylist)\n",
    "print(x.inserted_ids)"
   ]
  },
  {
   "cell_type": "code",
   "execution_count": 11,
   "metadata": {},
   "outputs": [
    {
     "ename": "BulkWriteError",
     "evalue": "batch op errors occurred, full error: {'writeErrors': [{'index': 1, 'code': 11000, 'errmsg': 'E11000 duplicate key error collection: test.employee index: _id_ dup key: { _id: 6 }', 'keyPattern': {'_id': 1}, 'keyValue': {'_id': 6}, 'op': {'_id': 6, 'name': 'Ram', 'address': 'Nayabazar'}}], 'writeConcernErrors': [], 'nInserted': 1, 'nUpserted': 0, 'nMatched': 0, 'nModified': 0, 'nRemoved': 0, 'upserted': []}",
     "output_type": "error",
     "traceback": [
      "\u001b[0;31m---------------------------------------------------------------------------\u001b[0m",
      "\u001b[0;31mBulkWriteError\u001b[0m                            Traceback (most recent call last)",
      "\u001b[1;32m/Users/sunilthapa/Desktop/AIMT/AML 2203/lecture_4.ipynb Cell 12\u001b[0m in \u001b[0;36m<cell line: 5>\u001b[0;34m()\u001b[0m\n\u001b[1;32m      <a href='vscode-notebook-cell:/Users/sunilthapa/Desktop/AIMT/AML%202203/lecture_4.ipynb#X14sZmlsZQ%3D%3D?line=0'>1</a>\u001b[0m mylist \u001b[39m=\u001b[39m [\n\u001b[1;32m      <a href='vscode-notebook-cell:/Users/sunilthapa/Desktop/AIMT/AML%202203/lecture_4.ipynb#X14sZmlsZQ%3D%3D?line=1'>2</a>\u001b[0m     {\u001b[39m\"\u001b[39m\u001b[39m_id\u001b[39m\u001b[39m\"\u001b[39m:\u001b[39m6\u001b[39m,\u001b[39m\"\u001b[39m\u001b[39mname\u001b[39m\u001b[39m\"\u001b[39m:\u001b[39m\"\u001b[39m\u001b[39mSunil\u001b[39m\u001b[39m\"\u001b[39m,\u001b[39m\"\u001b[39m\u001b[39maddress\u001b[39m\u001b[39m\"\u001b[39m:\u001b[39m\"\u001b[39m\u001b[39mCamilla 10\u001b[39m\u001b[39m\"\u001b[39m},\n\u001b[1;32m      <a href='vscode-notebook-cell:/Users/sunilthapa/Desktop/AIMT/AML%202203/lecture_4.ipynb#X14sZmlsZQ%3D%3D?line=2'>3</a>\u001b[0m     {\u001b[39m\"\u001b[39m\u001b[39m_id\u001b[39m\u001b[39m\"\u001b[39m:\u001b[39m6\u001b[39m,\u001b[39m\"\u001b[39m\u001b[39mname\u001b[39m\u001b[39m\"\u001b[39m:\u001b[39m\"\u001b[39m\u001b[39mRam\u001b[39m\u001b[39m\"\u001b[39m,\u001b[39m\"\u001b[39m\u001b[39maddress\u001b[39m\u001b[39m\"\u001b[39m:\u001b[39m\"\u001b[39m\u001b[39mNayabazar\u001b[39m\u001b[39m\"\u001b[39m},\n\u001b[1;32m      <a href='vscode-notebook-cell:/Users/sunilthapa/Desktop/AIMT/AML%202203/lecture_4.ipynb#X14sZmlsZQ%3D%3D?line=3'>4</a>\u001b[0m ]\n\u001b[0;32m----> <a href='vscode-notebook-cell:/Users/sunilthapa/Desktop/AIMT/AML%202203/lecture_4.ipynb#X14sZmlsZQ%3D%3D?line=4'>5</a>\u001b[0m x \u001b[39m=\u001b[39m employee\u001b[39m.\u001b[39;49minsert_many(mylist)\n\u001b[1;32m      <a href='vscode-notebook-cell:/Users/sunilthapa/Desktop/AIMT/AML%202203/lecture_4.ipynb#X14sZmlsZQ%3D%3D?line=5'>6</a>\u001b[0m \u001b[39mprint\u001b[39m(x\u001b[39m.\u001b[39minserted_ids)\n",
      "File \u001b[0;32m~/opt/miniconda3/envs/AML1214/lib/python3.8/site-packages/pymongo/_csot.py:105\u001b[0m, in \u001b[0;36mapply.<locals>.csot_wrapper\u001b[0;34m(self, *args, **kwargs)\u001b[0m\n\u001b[1;32m    103\u001b[0m         \u001b[39mwith\u001b[39;00m _TimeoutContext(timeout):\n\u001b[1;32m    104\u001b[0m             \u001b[39mreturn\u001b[39;00m func(\u001b[39mself\u001b[39m, \u001b[39m*\u001b[39margs, \u001b[39m*\u001b[39m\u001b[39m*\u001b[39mkwargs)\n\u001b[0;32m--> 105\u001b[0m \u001b[39mreturn\u001b[39;00m func(\u001b[39mself\u001b[39;49m, \u001b[39m*\u001b[39;49margs, \u001b[39m*\u001b[39;49m\u001b[39m*\u001b[39;49mkwargs)\n",
      "File \u001b[0;32m~/opt/miniconda3/envs/AML1214/lib/python3.8/site-packages/pymongo/collection.py:714\u001b[0m, in \u001b[0;36mCollection.insert_many\u001b[0;34m(self, documents, ordered, bypass_document_validation, session, comment)\u001b[0m\n\u001b[1;32m    712\u001b[0m blk \u001b[39m=\u001b[39m _Bulk(\u001b[39mself\u001b[39m, ordered, bypass_document_validation, comment\u001b[39m=\u001b[39mcomment)\n\u001b[1;32m    713\u001b[0m blk\u001b[39m.\u001b[39mops \u001b[39m=\u001b[39m [doc \u001b[39mfor\u001b[39;00m doc \u001b[39min\u001b[39;00m gen()]\n\u001b[0;32m--> 714\u001b[0m blk\u001b[39m.\u001b[39;49mexecute(write_concern, session\u001b[39m=\u001b[39;49msession)\n\u001b[1;32m    715\u001b[0m \u001b[39mreturn\u001b[39;00m InsertManyResult(inserted_ids, write_concern\u001b[39m.\u001b[39macknowledged)\n",
      "File \u001b[0;32m~/opt/miniconda3/envs/AML1214/lib/python3.8/site-packages/pymongo/bulk.py:513\u001b[0m, in \u001b[0;36m_Bulk.execute\u001b[0;34m(self, write_concern, session)\u001b[0m\n\u001b[1;32m    511\u001b[0m         \u001b[39mself\u001b[39m\u001b[39m.\u001b[39mexecute_no_results(sock_info, generator, write_concern)\n\u001b[1;32m    512\u001b[0m \u001b[39melse\u001b[39;00m:\n\u001b[0;32m--> 513\u001b[0m     \u001b[39mreturn\u001b[39;00m \u001b[39mself\u001b[39;49m\u001b[39m.\u001b[39;49mexecute_command(generator, write_concern, session)\n",
      "File \u001b[0;32m~/opt/miniconda3/envs/AML1214/lib/python3.8/site-packages/pymongo/bulk.py:394\u001b[0m, in \u001b[0;36m_Bulk.execute_command\u001b[0;34m(self, generator, write_concern, session)\u001b[0m\n\u001b[1;32m    391\u001b[0m     client\u001b[39m.\u001b[39m_retry_with_session(\u001b[39mself\u001b[39m\u001b[39m.\u001b[39mis_retryable, retryable_bulk, s, \u001b[39mself\u001b[39m)\n\u001b[1;32m    393\u001b[0m \u001b[39mif\u001b[39;00m full_result[\u001b[39m\"\u001b[39m\u001b[39mwriteErrors\u001b[39m\u001b[39m\"\u001b[39m] \u001b[39mor\u001b[39;00m full_result[\u001b[39m\"\u001b[39m\u001b[39mwriteConcernErrors\u001b[39m\u001b[39m\"\u001b[39m]:\n\u001b[0;32m--> 394\u001b[0m     _raise_bulk_write_error(full_result)\n\u001b[1;32m    395\u001b[0m \u001b[39mreturn\u001b[39;00m full_result\n",
      "File \u001b[0;32m~/opt/miniconda3/envs/AML1214/lib/python3.8/site-packages/pymongo/bulk.py:136\u001b[0m, in \u001b[0;36m_raise_bulk_write_error\u001b[0;34m(full_result)\u001b[0m\n\u001b[1;32m    134\u001b[0m \u001b[39mif\u001b[39;00m full_result[\u001b[39m\"\u001b[39m\u001b[39mwriteErrors\u001b[39m\u001b[39m\"\u001b[39m]:\n\u001b[1;32m    135\u001b[0m     full_result[\u001b[39m\"\u001b[39m\u001b[39mwriteErrors\u001b[39m\u001b[39m\"\u001b[39m]\u001b[39m.\u001b[39msort(key\u001b[39m=\u001b[39m\u001b[39mlambda\u001b[39;00m error: error[\u001b[39m\"\u001b[39m\u001b[39mindex\u001b[39m\u001b[39m\"\u001b[39m])\n\u001b[0;32m--> 136\u001b[0m \u001b[39mraise\u001b[39;00m BulkWriteError(full_result)\n",
      "\u001b[0;31mBulkWriteError\u001b[0m: batch op errors occurred, full error: {'writeErrors': [{'index': 1, 'code': 11000, 'errmsg': 'E11000 duplicate key error collection: test.employee index: _id_ dup key: { _id: 6 }', 'keyPattern': {'_id': 1}, 'keyValue': {'_id': 6}, 'op': {'_id': 6, 'name': 'Ram', 'address': 'Nayabazar'}}], 'writeConcernErrors': [], 'nInserted': 1, 'nUpserted': 0, 'nMatched': 0, 'nModified': 0, 'nRemoved': 0, 'upserted': []}"
     ]
    }
   ],
   "source": [
    "# Duplication error\n",
    "mylist = [\n",
    "    {\"_id\":6,\"name\":\"Sunil\",\"address\":\"Camilla 10\"},\n",
    "    {\"_id\":6,\"name\":\"Ram\",\"address\":\"Nayabazar\"},\n",
    "]\n",
    "x = employee.insert_many(mylist)\n",
    "print(x.inserted_ids)"
   ]
  },
  {
   "cell_type": "code",
   "execution_count": 12,
   "metadata": {},
   "outputs": [],
   "source": [
    "x = employee.find_one()"
   ]
  },
  {
   "cell_type": "code",
   "execution_count": 13,
   "metadata": {},
   "outputs": [
    {
     "data": {
      "text/plain": [
       "{'_id': ObjectId('63cf470a08860783e032e45e'),\n",
       " 'Name': 'Raj Kumar',\n",
       " 'Address': 'Sears Street, NZ',\n",
       " 'Age': '42'}"
      ]
     },
     "execution_count": 13,
     "metadata": {},
     "output_type": "execute_result"
    }
   ],
   "source": [
    "x\n"
   ]
  },
  {
   "cell_type": "code",
   "execution_count": 14,
   "metadata": {},
   "outputs": [
    {
     "name": "stdout",
     "output_type": "stream",
     "text": [
      "{'_id': ObjectId('63cf470a08860783e032e45e'), 'Name': 'Raj Kumar', 'Address': 'Sears Street, NZ', 'Age': '42'}\n",
      "{'_id': ObjectId('63d46279d6b11726fafa8999'), 'Name': 'Raj Kumar', 'Address': 'Sears Street, NZ', 'Age': '42'}\n",
      "{'_id': 1, 'name': 'John', 'address': 'Highway 37'}\n",
      "{'_id': 2, 'name': 'Peter', 'address': 'Lowstreet 27'}\n",
      "{'_id': 3, 'name': 'Amy', 'address': 'Apple st 652'}\n",
      "{'_id': 4, 'name': 'Hannah', 'address': 'Mountain 21'}\n",
      "{'_id': 5, 'name': 'Michael', 'address': 'Valley 345'}\n",
      "{'_id': 6, 'name': 'Sunil', 'address': 'Camilla 10'}\n"
     ]
    }
   ],
   "source": [
    "for x in employee.find():\n",
    "    print(x)"
   ]
  },
  {
   "cell_type": "code",
   "execution_count": 15,
   "metadata": {},
   "outputs": [
    {
     "name": "stdout",
     "output_type": "stream",
     "text": [
      "{'_id': ObjectId('63cf470a08860783e032e45e'), 'Name': 'Raj Kumar', 'Address': 'Sears Street, NZ', 'Age': '42'}\n",
      "{'_id': ObjectId('63d46279d6b11726fafa8999'), 'Name': 'Raj Kumar', 'Address': 'Sears Street, NZ', 'Age': '42'}\n",
      "{'_id': 1, 'name': 'John', 'address': 'Highway 37'}\n",
      "{'_id': 2, 'name': 'Peter', 'address': 'Lowstreet 27'}\n",
      "{'_id': 3, 'name': 'Amy', 'address': 'Apple st 652'}\n"
     ]
    }
   ],
   "source": [
    "myreseult = employee.find().limit(5)\n",
    "\n",
    "for x in myreseult:\n",
    "    print(x)"
   ]
  },
  {
   "cell_type": "code",
   "execution_count": 16,
   "metadata": {},
   "outputs": [
    {
     "name": "stdout",
     "output_type": "stream",
     "text": [
      "{'_id': ObjectId('63cf470a08860783e032e45e'), 'Name': 'Raj Kumar', 'Address': 'Sears Street, NZ', 'Age': '42'}\n",
      "{'_id': ObjectId('63d46279d6b11726fafa8999'), 'Name': 'Raj Kumar', 'Address': 'Sears Street, NZ', 'Age': '42'}\n",
      "{'_id': 1, 'name': 'John', 'address': 'Highway 37'}\n",
      "{'_id': 2, 'name': 'Peter', 'address': 'Lowstreet 27'}\n",
      "{'_id': 3, 'name': 'Amy', 'address': 'Apple st 652'}\n"
     ]
    }
   ],
   "source": [
    "result = employee.find()\n",
    "for x in result[:5]:\n",
    "    print(x)"
   ]
  },
  {
   "cell_type": "code",
   "execution_count": 17,
   "metadata": {},
   "outputs": [
    {
     "name": "stdout",
     "output_type": "stream",
     "text": [
      "{}\n",
      "{}\n",
      "{'name': 'John', 'address': 'Highway 37'}\n",
      "{'name': 'Peter', 'address': 'Lowstreet 27'}\n",
      "{'name': 'Amy', 'address': 'Apple st 652'}\n",
      "{'name': 'Hannah', 'address': 'Mountain 21'}\n",
      "{'name': 'Michael', 'address': 'Valley 345'}\n",
      "{'name': 'Sunil', 'address': 'Camilla 10'}\n"
     ]
    }
   ],
   "source": [
    "for x in employee.find({}, {'_id': 0, 'name': 1, 'address': 1}):\n",
    "    print(x)"
   ]
  },
  {
   "cell_type": "code",
   "execution_count": 18,
   "metadata": {},
   "outputs": [
    {
     "name": "stdout",
     "output_type": "stream",
     "text": [
      "{'_id': ObjectId('63cf470a08860783e032e45e'), 'Name': 'Raj Kumar', 'Address': 'Sears Street, NZ'}\n",
      "{'_id': ObjectId('63d46279d6b11726fafa8999'), 'Name': 'Raj Kumar', 'Address': 'Sears Street, NZ'}\n",
      "{'_id': 1, 'name': 'John', 'address': 'Highway 37'}\n",
      "{'_id': 2, 'name': 'Peter', 'address': 'Lowstreet 27'}\n",
      "{'_id': 3, 'name': 'Amy', 'address': 'Apple st 652'}\n",
      "{'_id': 4, 'name': 'Hannah', 'address': 'Mountain 21'}\n",
      "{'_id': 5, 'name': 'Michael', 'address': 'Valley 345'}\n",
      "{'_id': 6, 'name': 'Sunil', 'address': 'Camilla 10'}\n"
     ]
    }
   ],
   "source": [
    "for x in employee.find({}, {'Age': 0}):\n",
    "    print(x)"
   ]
  },
  {
   "cell_type": "code",
   "execution_count": 19,
   "metadata": {},
   "outputs": [
    {
     "name": "stdout",
     "output_type": "stream",
     "text": [
      "{'_id': ObjectId('63cf470a08860783e032e45e'), 'Age': '42'}\n",
      "{'_id': ObjectId('63d46279d6b11726fafa8999'), 'Age': '42'}\n",
      "{'_id': 1}\n",
      "{'_id': 2}\n",
      "{'_id': 3}\n",
      "{'_id': 4}\n",
      "{'_id': 5}\n",
      "{'_id': 6}\n"
     ]
    }
   ],
   "source": [
    "for x in employee.find({}, {'Age': 1}):\n",
    "    print(x)"
   ]
  },
  {
   "cell_type": "code",
   "execution_count": 25,
   "metadata": {},
   "outputs": [
    {
     "name": "stdout",
     "output_type": "stream",
     "text": [
      "{'_id': 1, 'name': 'John', 'address': 'Highway 37'}\n",
      "{'_id': 10, 'name': 'John', 'address': 'Highway 37'}\n"
     ]
    }
   ],
   "source": [
    "myquery = {'address': 'Highway 37'}\n",
    "mydoc = employee.find(myquery)\n",
    "\n",
    "for x in mydoc:\n",
    "    print(x)"
   ]
  },
  {
   "cell_type": "code",
   "execution_count": 26,
   "metadata": {},
   "outputs": [
    {
     "name": "stdout",
     "output_type": "stream",
     "text": [
      "[ObjectId('63d46f61d6b11726fafa899a'), ObjectId('63d46f61d6b11726fafa899b')]\n"
     ]
    }
   ],
   "source": [
    "mylist = [\n",
    "    {\"name\":\"Samir\",\"address\":\"Highway 37\"},\n",
    "    {\"name\":\"Sushil\",\"address\":\"Highway 37\"}\n",
    "]\n",
    "\n",
    "x = employee.insert_many(mylist)\n",
    "print(x.inserted_ids)"
   ]
  },
  {
   "cell_type": "code",
   "execution_count": 27,
   "metadata": {},
   "outputs": [
    {
     "name": "stdout",
     "output_type": "stream",
     "text": [
      "{'_id': 1, 'name': 'John', 'address': 'Highway 37'}\n",
      "{'_id': 10, 'name': 'John', 'address': 'Highway 37'}\n",
      "{'_id': ObjectId('63d46f61d6b11726fafa899a'), 'name': 'Samir', 'address': 'Highway 37'}\n",
      "{'_id': ObjectId('63d46f61d6b11726fafa899b'), 'name': 'Sushil', 'address': 'Highway 37'}\n"
     ]
    }
   ],
   "source": [
    "myquery = {'address': 'Highway 37'}\n",
    "mydoc = employee.find(myquery)\n",
    "\n",
    "for x in mydoc:\n",
    "    print(x)"
   ]
  },
  {
   "cell_type": "code",
   "execution_count": 37,
   "metadata": {},
   "outputs": [
    {
     "name": "stdout",
     "output_type": "stream",
     "text": [
      "{'_id': ObjectId('63d46f61d6b11726fafa899a'), 'name': 'Samir', 'address': 'Highway 37'}\n",
      "{'_id': ObjectId('63d46f61d6b11726fafa899b'), 'name': 'Sushil', 'address': 'Highway 37'}\n"
     ]
    }
   ],
   "source": [
    "mydoc = list(employee.find(myquery))\n",
    "for x in mydoc[-2:]:\n",
    "    print(x)"
   ]
  },
  {
   "cell_type": "code",
   "execution_count": 44,
   "metadata": {},
   "outputs": [
    {
     "name": "stdout",
     "output_type": "stream",
     "text": [
      "{'_id': 5, 'name': 'Michael', 'address': 'Valley 345'}\n",
      "{'_id': 55, 'name': 'Michael', 'address': 'Valley 345'}\n"
     ]
    }
   ],
   "source": [
    "myquery = {'address': {'$gt': 'S'}}\n",
    "mydoc = employee.find(myquery)\n",
    "\n",
    "for x in mydoc:\n",
    "    print(x)"
   ]
  },
  {
   "cell_type": "code",
   "execution_count": 45,
   "metadata": {},
   "outputs": [
    {
     "name": "stdout",
     "output_type": "stream",
     "text": [
      "{'_id': 5, 'name': 'Michael', 'address': 'Valley 345'}\n",
      "{'_id': 55, 'name': 'Michael', 'address': 'Valley 345'}\n"
     ]
    }
   ],
   "source": [
    "myquery = {'address': {'$regex': '^V'}}\n",
    "mydoc = employee.find(myquery)\n",
    "\n",
    "for x in mydoc:\n",
    "    print(x)"
   ]
  },
  {
   "cell_type": "code",
   "execution_count": 47,
   "metadata": {},
   "outputs": [
    {
     "name": "stdout",
     "output_type": "stream",
     "text": [
      "{'_id': 3, 'name': 'Amy', 'address': 'Apple st 652'}\n",
      "{'_id': 5, 'name': 'Michael', 'address': 'Valley 345'}\n",
      "{'_id': 6, 'name': 'Sunil', 'address': 'Camilla 10'}\n",
      "{'_id': 33, 'name': 'Amy', 'address': 'Apple st 652'}\n",
      "{'_id': 55, 'name': 'Michael', 'address': 'Valley 345'}\n"
     ]
    }
   ],
   "source": [
    "myquery = {'address': {'$regex': '[a-zA-Z]*l[a-zA-Z]*'}}\n",
    "mydoc = employee.find(myquery)\n",
    "\n",
    "for x in mydoc:\n",
    "    print(x)"
   ]
  },
  {
   "cell_type": "code",
   "execution_count": 48,
   "metadata": {},
   "outputs": [
    {
     "name": "stdout",
     "output_type": "stream",
     "text": [
      "{'_id': 3, 'name': 'Amy', 'address': 'Apple st 652'}\n",
      "{'_id': 5, 'name': 'Michael', 'address': 'Valley 345'}\n",
      "{'_id': 6, 'name': 'Sunil', 'address': 'Camilla 10'}\n",
      "{'_id': 33, 'name': 'Amy', 'address': 'Apple st 652'}\n",
      "{'_id': 55, 'name': 'Michael', 'address': 'Valley 345'}\n"
     ]
    }
   ],
   "source": [
    "myquery = {'address': {'$regex': '[l]'}}\n",
    "mydoc = employee.find(myquery)\n",
    "\n",
    "for x in mydoc:\n",
    "    print(x)"
   ]
  },
  {
   "cell_type": "code",
   "execution_count": 68,
   "metadata": {},
   "outputs": [
    {
     "name": "stdout",
     "output_type": "stream",
     "text": [
      "{'_id': 3, 'name': 'Amy', 'address': 'Apple st 652'}\n",
      "{'_id': 5, 'name': 'Michael', 'address': 'Valley 345'}\n",
      "{'_id': 6, 'name': 'Sunil', 'address': 'Camilla 10'}\n",
      "{'_id': 33, 'name': 'Amy', 'address': 'Apple st 652'}\n",
      "{'_id': 55, 'name': 'Michael', 'address': 'Valley 345'}\n"
     ]
    }
   ],
   "source": [
    "myquery = {'address': {'$regex': '^V|l'}}\n",
    "mydoc = employee.find(myquery)\n",
    "\n",
    "for x in mydoc:\n",
    "    print(x)"
   ]
  },
  {
   "cell_type": "code",
   "execution_count": 102,
   "metadata": {},
   "outputs": [
    {
     "name": "stdout",
     "output_type": "stream",
     "text": [
      "{'_id': 55, 'name': 'Michael', 'address': 'Valley 345'}\n"
     ]
    }
   ],
   "source": [
    "myquery = {'address': {'$regex': '^V.*l+'}}\n",
    "mydoc = employee.find(myquery)\n",
    "\n",
    "for x in mydoc:\n",
    "    print(x)"
   ]
  },
  {
   "cell_type": "code",
   "execution_count": 90,
   "metadata": {},
   "outputs": [
    {
     "name": "stdout",
     "output_type": "stream",
     "text": [
      "{'_id': ObjectId('63cf470a08860783e032e45e'), 'Name': 'Raj Kumar', 'Address': 'Sears Street, NZ', 'Age': '42'}\n",
      "{'_id': ObjectId('63d46279d6b11726fafa8999'), 'Name': 'Raj Kumar', 'Address': 'Sears Street, NZ', 'Age': '42'}\n",
      "{'_id': 3, 'name': 'Amy', 'address': 'Apple st 652'}\n",
      "{'_id': 33, 'name': 'Amy', 'address': 'Apple st 652'}\n",
      "{'_id': 4, 'name': 'Hannah', 'address': 'Mountain 21'}\n",
      "{'_id': 44, 'name': 'Hannah', 'address': 'Mountain 21'}\n",
      "{'_id': 1, 'name': 'John', 'address': 'Highway 37'}\n",
      "{'_id': 10, 'name': 'John', 'address': 'Highway 37'}\n",
      "{'_id': 5, 'name': 'Michael', 'address': 'Valley 345'}\n",
      "{'_id': 55, 'name': 'Michael', 'address': 'Valley 345'}\n",
      "{'_id': 2, 'name': 'Peter', 'address': 'Lowstreet 27'}\n",
      "{'_id': 20, 'name': 'Peter', 'address': 'Lowstreet 27'}\n",
      "{'_id': ObjectId('63d46f61d6b11726fafa899a'), 'name': 'Samir', 'address': 'Highway 37'}\n",
      "{'_id': 6, 'name': 'Sunil', 'address': 'Camilla 10'}\n",
      "{'_id': ObjectId('63d46f61d6b11726fafa899b'), 'name': 'Sushil', 'address': 'Highway 37'}\n"
     ]
    }
   ],
   "source": [
    "mydoc = employee.find().sort('name')\n",
    "\n",
    "for x in mydoc:\n",
    "    print(x)"
   ]
  },
  {
   "cell_type": "code",
   "execution_count": 91,
   "metadata": {},
   "outputs": [
    {
     "name": "stdout",
     "output_type": "stream",
     "text": [
      "{'_id': ObjectId('63d46f61d6b11726fafa899b'), 'name': 'Sushil', 'address': 'Highway 37'}\n",
      "{'_id': 6, 'name': 'Sunil', 'address': 'Camilla 10'}\n",
      "{'_id': ObjectId('63d46f61d6b11726fafa899a'), 'name': 'Samir', 'address': 'Highway 37'}\n",
      "{'_id': 2, 'name': 'Peter', 'address': 'Lowstreet 27'}\n",
      "{'_id': 20, 'name': 'Peter', 'address': 'Lowstreet 27'}\n",
      "{'_id': 5, 'name': 'Michael', 'address': 'Valley 345'}\n",
      "{'_id': 55, 'name': 'Michael', 'address': 'Valley 345'}\n",
      "{'_id': 1, 'name': 'John', 'address': 'Highway 37'}\n",
      "{'_id': 10, 'name': 'John', 'address': 'Highway 37'}\n",
      "{'_id': 4, 'name': 'Hannah', 'address': 'Mountain 21'}\n",
      "{'_id': 44, 'name': 'Hannah', 'address': 'Mountain 21'}\n",
      "{'_id': 3, 'name': 'Amy', 'address': 'Apple st 652'}\n",
      "{'_id': 33, 'name': 'Amy', 'address': 'Apple st 652'}\n",
      "{'_id': ObjectId('63cf470a08860783e032e45e'), 'Name': 'Raj Kumar', 'Address': 'Sears Street, NZ', 'Age': '42'}\n",
      "{'_id': ObjectId('63d46279d6b11726fafa8999'), 'Name': 'Raj Kumar', 'Address': 'Sears Street, NZ', 'Age': '42'}\n"
     ]
    }
   ],
   "source": [
    "mydoc = employee.find().sort('name', -1)\n",
    "\n",
    "for x in mydoc:\n",
    "    print(x)"
   ]
  },
  {
   "cell_type": "code",
   "execution_count": 92,
   "metadata": {},
   "outputs": [
    {
     "name": "stdout",
     "output_type": "stream",
     "text": [
      "{'_id': ObjectId('63cf470a08860783e032e45e'), 'Name': 'Raj Kumar', 'Address': 'Sears Street, NZ', 'Age': '42'}\n",
      "{'_id': ObjectId('63d46279d6b11726fafa8999'), 'Name': 'Raj Kumar', 'Address': 'Sears Street, NZ', 'Age': '42'}\n",
      "{'_id': 1, 'name': 'John', 'address': 'Highway 37'}\n",
      "{'_id': 2, 'name': 'Peter', 'address': 'Lowstreet 27'}\n",
      "{'_id': 3, 'name': 'Amy', 'address': 'Apple st 652'}\n",
      "{'_id': 4, 'name': 'Hannah', 'address': 'Mountain 21'}\n",
      "{'_id': 5, 'name': 'Michael', 'address': 'Valley 345'}\n",
      "{'_id': 6, 'name': 'Sunil', 'address': 'Camilla 10'}\n",
      "{'_id': 10, 'name': 'John', 'address': 'Highway 37'}\n",
      "{'_id': 20, 'name': 'Peter', 'address': 'Lowstreet 27'}\n",
      "{'_id': 33, 'name': 'Amy', 'address': 'Apple st 652'}\n",
      "{'_id': 44, 'name': 'Hannah', 'address': 'Mountain 21'}\n",
      "{'_id': 55, 'name': 'Michael', 'address': 'Valley 345'}\n",
      "{'_id': ObjectId('63d46f61d6b11726fafa899a'), 'name': 'Samir', 'address': 'Highway 37'}\n",
      "{'_id': ObjectId('63d46f61d6b11726fafa899b'), 'name': 'Sushil', 'address': 'Highway 37'}\n",
      "{'_id': ObjectId('63cf470a08860783e032e45e'), 'Name': 'Raj Kumar', 'Address': 'Sears Street, NZ', 'Age': '42'}\n",
      "{'_id': ObjectId('63d46279d6b11726fafa8999'), 'Name': 'Raj Kumar', 'Address': 'Sears Street, NZ', 'Age': '42'}\n",
      "{'_id': 1, 'name': 'John', 'address': 'Highway 37'}\n",
      "{'_id': 2, 'name': 'Peter', 'address': 'Lowstreet 27'}\n",
      "{'_id': 3, 'name': 'Amy', 'address': 'Apple st 652'}\n",
      "{'_id': 4, 'name': 'Hannah', 'address': 'Mountain 21'}\n",
      "{'_id': 5, 'name': 'Michael', 'address': 'Canyon 123'}\n",
      "{'_id': 6, 'name': 'Sunil', 'address': 'Camilla 10'}\n",
      "{'_id': 10, 'name': 'John', 'address': 'Highway 37'}\n",
      "{'_id': 20, 'name': 'Peter', 'address': 'Lowstreet 27'}\n",
      "{'_id': 33, 'name': 'Amy', 'address': 'Apple st 652'}\n",
      "{'_id': 44, 'name': 'Hannah', 'address': 'Mountain 21'}\n",
      "{'_id': 55, 'name': 'Michael', 'address': 'Valley 345'}\n",
      "{'_id': ObjectId('63d46f61d6b11726fafa899a'), 'name': 'Samir', 'address': 'Highway 37'}\n",
      "{'_id': ObjectId('63d46f61d6b11726fafa899b'), 'name': 'Sushil', 'address': 'Highway 37'}\n"
     ]
    }
   ],
   "source": [
    "for x in employee.find():\n",
    "    print(x)\n",
    "\n",
    "myquery = {'address': 'Valley 345'}\n",
    "newvalues = {'$set': {'address': 'Canyon 123'}}\n",
    "\n",
    "employee.update_one(myquery, newvalues)\n",
    "\n",
    "for x in employee.find():\n",
    "    print(x)"
   ]
  },
  {
   "cell_type": "code",
   "execution_count": 93,
   "metadata": {},
   "outputs": [
    {
     "name": "stdout",
     "output_type": "stream",
     "text": [
      "2 documents updated.\n",
      "{'_id': ObjectId('63cf470a08860783e032e45e'), 'Name': 'Raj Kumar', 'Address': 'Sears Street, NZ', 'Age': '42'}\n",
      "{'_id': ObjectId('63d46279d6b11726fafa8999'), 'Name': 'Raj Kumar', 'Address': 'Sears Street, NZ', 'Age': '42'}\n",
      "{'_id': 1, 'name': 'John', 'address': 'Highway 37'}\n",
      "{'_id': 2, 'name': 'Peter', 'address': 'Lowstreet 27'}\n",
      "{'_id': 3, 'name': 'Amy', 'address': 'Apple st 652'}\n",
      "{'_id': 4, 'name': 'Hannah', 'address': 'Mountain 21'}\n",
      "{'_id': 5, 'name': 'Minnie', 'address': 'Canyon 123'}\n",
      "{'_id': 6, 'name': 'Minnie', 'address': 'Camilla 10'}\n",
      "{'_id': 10, 'name': 'John', 'address': 'Highway 37'}\n",
      "{'_id': 20, 'name': 'Peter', 'address': 'Lowstreet 27'}\n",
      "{'_id': 33, 'name': 'Amy', 'address': 'Apple st 652'}\n",
      "{'_id': 44, 'name': 'Hannah', 'address': 'Mountain 21'}\n",
      "{'_id': 55, 'name': 'Michael', 'address': 'Valley 345'}\n",
      "{'_id': ObjectId('63d46f61d6b11726fafa899a'), 'name': 'Samir', 'address': 'Highway 37'}\n",
      "{'_id': ObjectId('63d46f61d6b11726fafa899b'), 'name': 'Sushil', 'address': 'Highway 37'}\n"
     ]
    }
   ],
   "source": [
    "myquery = {'address': {'$regex': '^C'}}\n",
    "newvalues = {'$set': {'name': 'Minnie'}}\n",
    "\n",
    "x = employee.update_many(myquery, newvalues)\n",
    "\n",
    "print(x.modified_count, 'documents updated.')\n",
    "\n",
    "for x in employee.find():\n",
    "    print(x)"
   ]
  },
  {
   "cell_type": "code",
   "execution_count": null,
   "metadata": {},
   "outputs": [],
   "source": []
  }
 ],
 "metadata": {
  "kernelspec": {
   "display_name": "AML1214",
   "language": "python",
   "name": "python3"
  },
  "language_info": {
   "codemirror_mode": {
    "name": "ipython",
    "version": 3
   },
   "file_extension": ".py",
   "mimetype": "text/x-python",
   "name": "python",
   "nbconvert_exporter": "python",
   "pygments_lexer": "ipython3",
   "version": "3.8.13 (default, Mar 28 2022, 06:13:39) \n[Clang 12.0.0 ]"
  },
  "orig_nbformat": 4,
  "vscode": {
   "interpreter": {
    "hash": "b02a89298884bb2954546ed35ac9a94abe7128f159ea89ab444f5a0856e22eb0"
   }
  }
 },
 "nbformat": 4,
 "nbformat_minor": 2
}
