{
 "cells": [
  {
   "cell_type": "code",
   "execution_count": 1,
   "metadata": {},
   "outputs": [],
   "source": [
    "import sqlite3"
   ]
  },
  {
   "cell_type": "code",
   "execution_count": 2,
   "metadata": {},
   "outputs": [],
   "source": [
    "conn = sqlite3.connect('example.db')"
   ]
  },
  {
   "cell_type": "code",
   "execution_count": 3,
   "metadata": {},
   "outputs": [],
   "source": [
    "cursor = conn.cursor()"
   ]
  },
  {
   "cell_type": "code",
   "execution_count": 117,
   "metadata": {},
   "outputs": [],
   "source": [
    "sql = '''CREATE TABLE EMPLOYEE(\n",
    "    FIRST_NAME CHAR(20) NOT NULL,\n",
    "    LAST_NAME CHAR(20),\n",
    "    AGE INT,\n",
    "    SEX CHAR(1),\n",
    "    INCOME FLOAT\n",
    ");\n",
    "'''"
   ]
  },
  {
   "cell_type": "code",
   "execution_count": 118,
   "metadata": {},
   "outputs": [
    {
     "data": {
      "text/plain": [
       "<sqlite3.Cursor at 0x1076b7340>"
      ]
     },
     "execution_count": 118,
     "metadata": {},
     "output_type": "execute_result"
    }
   ],
   "source": [
    "cursor.execute(sql)"
   ]
  },
  {
   "cell_type": "code",
   "execution_count": 119,
   "metadata": {},
   "outputs": [],
   "source": [
    "conn.commit()"
   ]
  },
  {
   "cell_type": "code",
   "execution_count": 116,
   "metadata": {},
   "outputs": [],
   "source": [
    "cursor.execute(\"DROP TABLE CUSTOMER\")\n",
    "conn.commit()\n",
    "\n",
    "cursor.execute(\"DROP TABLE EMPLOYEE\")\n",
    "conn.commit()"
   ]
  },
  {
   "cell_type": "code",
   "execution_count": 115,
   "metadata": {},
   "outputs": [],
   "source": [
    "cursor.execute(\"DELETE FROM CUSTOMER\")\n",
    "conn.commit()"
   ]
  },
  {
   "cell_type": "code",
   "execution_count": null,
   "metadata": {},
   "outputs": [],
   "source": [
    "sql = '''CREATE TABLE student(\n",
    "    FIRST_NAME CHAR(20) NOT NULL,\n",
    "    LAST_NAME CHAR(20),\n",
    "    AGE INT,\n",
    "    SEX CHAR(1),\n",
    "    INCOME FLOAT\n",
    ");\n",
    "'''\n",
    "cursor.execute(sql)\n",
    "conn.commit()"
   ]
  },
  {
   "cell_type": "code",
   "execution_count": 121,
   "metadata": {},
   "outputs": [],
   "source": [
    "cursor.execute('''\n",
    "INSERT INTO EMPLOYEE (FIRST_NAME, LAST_NAME, AGE, SEX, INCOME)\n",
    "VALUES ('Ramya', 'Rama Priya', 27, 'F', 9000)\n",
    "''')\n",
    "cursor.execute('''\n",
    "INSERT INTO EMPLOYEE (FIRST_NAME, LAST_NAME, AGE, SEX, INCOME)\n",
    "VALUES ('Sharukh', 'Sheik', 25, 'M', 8300)\n",
    "''')\n",
    "cursor.execute('''\n",
    "INSERT INTO EMPLOYEE (FIRST_NAME, LAST_NAME, AGE, SEX, INCOME)\n",
    "VALUES ('Sarmista', 'Sharma', 26, 'F', 10000)\n",
    "''')\n",
    "cursor.execute('''\n",
    "INSERT INTO EMPLOYEE (FIRST_NAME, LAST_NAME, AGE, SEX, INCOME)\n",
    "VALUES ('Sunil', 'Thapa', 24, 'M', 60000)\n",
    "''')\n",
    "cursor.execute('''\n",
    "INSERT INTO EMPLOYEE (FIRST_NAME, LAST_NAME, AGE, SEX, INCOME)\n",
    "VALUES ('Teja', 'Sharma', 28, 'M', 5000)\n",
    "''')\n",
    "conn.commit()"
   ]
  },
  {
   "cell_type": "code",
   "execution_count": 122,
   "metadata": {},
   "outputs": [
    {
     "name": "stdout",
     "output_type": "stream",
     "text": [
      "('Ramya', 'Rama Priya', 27, 'F', 9000.0)\n",
      "('Sharukh', 'Sheik', 25, 'M', 8300.0)\n",
      "('Sarmista', 'Sharma', 26, 'F', 10000.0)\n",
      "('Sunil', 'Thapa', 24, 'M', 60000.0)\n",
      "('Teja', 'Sharma', 28, 'M', 5000.0)\n"
     ]
    }
   ],
   "source": [
    "cursor.execute('''SELECT * FROM EMPLOYEE''')\n",
    "rows = cursor.fetchall()\n",
    "for r in rows:\n",
    "    print(r)\n",
    "# conn.commit()"
   ]
  },
  {
   "cell_type": "code",
   "execution_count": 123,
   "metadata": {},
   "outputs": [],
   "source": [
    "cursor.execute('''\n",
    "INSERT INTO EMPLOYEE (FIRST_NAME, LAST_NAME, AGE, SEX, INCOME)\n",
    "VALUES ('Samir', 'Khanal', 25, 'M', 50000),\n",
    "('Sushil', 'Basi', 25, 'M', 50000)\n",
    "''')\n",
    "conn.commit()\n"
   ]
  },
  {
   "cell_type": "code",
   "execution_count": 124,
   "metadata": {},
   "outputs": [],
   "source": [
    "cursor.execute('''\n",
    "INSERT INTO EMPLOYEE (FIRST_NAME, LAST_NAME, AGE, SEX, INCOME)\n",
    "VALUES ('Ram', 'Thapa', 24, 'M', 60000)\n",
    "''')\n",
    "cursor.execute('''\n",
    "INSERT INTO EMPLOYEE (FIRST_NAME, LAST_NAME, AGE, SEX, INCOME)\n",
    "VALUES ('Shyam', 'Sharma', 28, 'M', 5000)\n",
    "''')\n",
    "conn.commit()"
   ]
  },
  {
   "cell_type": "code",
   "execution_count": 125,
   "metadata": {},
   "outputs": [],
   "source": [
    "# execute many"
   ]
  },
  {
   "cell_type": "code",
   "execution_count": 126,
   "metadata": {},
   "outputs": [
    {
     "name": "stdout",
     "output_type": "stream",
     "text": [
      "('Ramya', 'Rama Priya', 27, 'F', 9000.0)\n"
     ]
    }
   ],
   "source": [
    "cursor.execute('SELECT * FROM EMPLOYEE')\n",
    "data = cursor.fetchone()\n",
    "print(data)"
   ]
  },
  {
   "cell_type": "code",
   "execution_count": 127,
   "metadata": {},
   "outputs": [
    {
     "name": "stdout",
     "output_type": "stream",
     "text": [
      "('Sharukh', 'Sheik', 25, 'M', 8300.0)\n"
     ]
    }
   ],
   "source": [
    "data = cursor.fetchone()\n",
    "print(data)"
   ]
  },
  {
   "cell_type": "code",
   "execution_count": 128,
   "metadata": {},
   "outputs": [
    {
     "name": "stdout",
     "output_type": "stream",
     "text": [
      "[('Ramya', 'Rama Priya', 27, 'F', 9000.0), ('Sharukh', 'Sheik', 25, 'M', 8300.0)]\n"
     ]
    }
   ],
   "source": [
    "cursor.execute('SELECT * FROM EMPLOYEE')\n",
    "data = cursor.fetchmany(2)\n",
    "print(data)"
   ]
  },
  {
   "cell_type": "code",
   "execution_count": 129,
   "metadata": {},
   "outputs": [
    {
     "name": "stdout",
     "output_type": "stream",
     "text": [
      "[('Ramya', 'Rama Priya', 27, 'F', 9000.0), ('Sharukh', 'Sheik', 25, 'M', 8300.0), ('Sarmista', 'Sharma', 26, 'F', 10000.0), ('Sunil', 'Thapa', 24, 'M', 60000.0)]\n"
     ]
    }
   ],
   "source": [
    "cursor.execute('SELECT * FROM EMPLOYEE')\n",
    "data = cursor.fetchmany(4)\n",
    "print(data)"
   ]
  },
  {
   "cell_type": "code",
   "execution_count": 130,
   "metadata": {},
   "outputs": [
    {
     "name": "stdout",
     "output_type": "stream",
     "text": [
      "[('Teja', 'Sharma', 28, 'M', 5000.0), ('Samir', 'Khanal', 25, 'M', 50000.0), ('Sushil', 'Basi', 25, 'M', 50000.0), ('Ram', 'Thapa', 24, 'M', 60000.0)]\n"
     ]
    }
   ],
   "source": [
    "data = cursor.fetchmany(4)\n",
    "print(data)"
   ]
  },
  {
   "cell_type": "code",
   "execution_count": 131,
   "metadata": {},
   "outputs": [
    {
     "name": "stdout",
     "output_type": "stream",
     "text": [
      "[('Shyam', 'Sharma', 28, 'M', 5000.0)]\n"
     ]
    }
   ],
   "source": [
    "data = cursor.fetchall()\n",
    "print(data)"
   ]
  },
  {
   "cell_type": "code",
   "execution_count": 132,
   "metadata": {},
   "outputs": [],
   "source": [
    "# when previous query is used to fetch data, the cursor goes to next row. Hence, once all the records gets excuted\n",
    "# there's no record to return so it's []."
   ]
  },
  {
   "cell_type": "code",
   "execution_count": 133,
   "metadata": {},
   "outputs": [
    {
     "name": "stdout",
     "output_type": "stream",
     "text": [
      "[]\n"
     ]
    }
   ],
   "source": [
    "data = cursor.fetchmany(4)\n",
    "print(data)"
   ]
  },
  {
   "cell_type": "code",
   "execution_count": 134,
   "metadata": {},
   "outputs": [
    {
     "name": "stdout",
     "output_type": "stream",
     "text": [
      "[]\n"
     ]
    }
   ],
   "source": [
    "data = cursor.fetchall()\n",
    "print(data)"
   ]
  },
  {
   "cell_type": "code",
   "execution_count": 135,
   "metadata": {},
   "outputs": [],
   "source": [
    "sql = '''\n",
    "    UPDATE EMPLOYEE SET AGE=AGE+1 WHERE SEX = 'M';\n",
    "'''\n",
    "cursor.execute(sql)\n",
    "conn.commit()"
   ]
  },
  {
   "cell_type": "code",
   "execution_count": 136,
   "metadata": {},
   "outputs": [],
   "source": [
    "def print_all():\n",
    "    cursor.execute('''SELECT * FROM EMPLOYEE''')\n",
    "    rows = cursor.fetchall()\n",
    "    for r in rows:\n",
    "        print(r)\n",
    "# conn.commit()"
   ]
  },
  {
   "cell_type": "code",
   "execution_count": 137,
   "metadata": {},
   "outputs": [
    {
     "name": "stdout",
     "output_type": "stream",
     "text": [
      "('Ramya', 'Rama Priya', 27, 'F', 9000.0)\n",
      "('Sharukh', 'Sheik', 26, 'M', 8300.0)\n",
      "('Sarmista', 'Sharma', 26, 'F', 10000.0)\n",
      "('Sunil', 'Thapa', 25, 'M', 60000.0)\n",
      "('Teja', 'Sharma', 29, 'M', 5000.0)\n",
      "('Samir', 'Khanal', 26, 'M', 50000.0)\n",
      "('Sushil', 'Basi', 26, 'M', 50000.0)\n",
      "('Ram', 'Thapa', 25, 'M', 60000.0)\n",
      "('Shyam', 'Sharma', 29, 'M', 5000.0)\n"
     ]
    }
   ],
   "source": [
    "print_all()"
   ]
  },
  {
   "cell_type": "code",
   "execution_count": 138,
   "metadata": {},
   "outputs": [],
   "source": [
    "sql = '''\n",
    "ALTER TABLE EMPLOYEE\n",
    "ADD EMPLOYEE_ID INT PRIMARY_KEY AUTO_INCREMENT;\n",
    "'''\n",
    "cursor.execute(sql)\n",
    "conn.commit()"
   ]
  },
  {
   "cell_type": "code",
   "execution_count": 139,
   "metadata": {},
   "outputs": [
    {
     "name": "stdout",
     "output_type": "stream",
     "text": [
      "('Ramya', 'Rama Priya', 27, 'F', 9000.0, None)\n",
      "('Sharukh', 'Sheik', 26, 'M', 8300.0, None)\n",
      "('Sarmista', 'Sharma', 26, 'F', 10000.0, None)\n",
      "('Sunil', 'Thapa', 25, 'M', 60000.0, None)\n",
      "('Teja', 'Sharma', 29, 'M', 5000.0, None)\n",
      "('Samir', 'Khanal', 26, 'M', 50000.0, None)\n",
      "('Sushil', 'Basi', 26, 'M', 50000.0, None)\n",
      "('Ram', 'Thapa', 25, 'M', 60000.0, None)\n",
      "('Shyam', 'Sharma', 29, 'M', 5000.0, None)\n"
     ]
    }
   ],
   "source": [
    "print_all()"
   ]
  },
  {
   "cell_type": "code",
   "execution_count": 140,
   "metadata": {},
   "outputs": [],
   "source": [
    "sql = '''\n",
    "UPDATE EMPLOYEE SET EMPLOYEE_ID=EMPLOYEE_ID+1;\n",
    "'''\n",
    "cursor.execute(sql)\n",
    "conn.commit()"
   ]
  },
  {
   "cell_type": "code",
   "execution_count": 141,
   "metadata": {},
   "outputs": [
    {
     "name": "stdout",
     "output_type": "stream",
     "text": [
      "('Ramya', 'Rama Priya', 27, 'F', 9000.0, None)\n",
      "('Sharukh', 'Sheik', 26, 'M', 8300.0, None)\n",
      "('Sarmista', 'Sharma', 26, 'F', 10000.0, None)\n",
      "('Sunil', 'Thapa', 25, 'M', 60000.0, None)\n",
      "('Teja', 'Sharma', 29, 'M', 5000.0, None)\n",
      "('Samir', 'Khanal', 26, 'M', 50000.0, None)\n",
      "('Sushil', 'Basi', 26, 'M', 50000.0, None)\n",
      "('Ram', 'Thapa', 25, 'M', 60000.0, None)\n",
      "('Shyam', 'Sharma', 29, 'M', 5000.0, None)\n"
     ]
    }
   ],
   "source": [
    "print_all()"
   ]
  },
  {
   "cell_type": "code",
   "execution_count": 142,
   "metadata": {},
   "outputs": [],
   "source": [
    "sql = '''\n",
    "ALTER TABLE EMPLOYEE RENAME TO CUSTOMER\n",
    "'''\n",
    "cursor.execute(sql)\n",
    "conn.commit()"
   ]
  },
  {
   "cell_type": "code",
   "execution_count": 143,
   "metadata": {},
   "outputs": [],
   "source": [
    "def print_all_customer():\n",
    "    cursor.execute('''SELECT * FROM CUSTOMER''')\n",
    "    rows = cursor.fetchall()\n",
    "    for r in rows:\n",
    "        print(r)"
   ]
  },
  {
   "cell_type": "code",
   "execution_count": 144,
   "metadata": {},
   "outputs": [
    {
     "name": "stdout",
     "output_type": "stream",
     "text": [
      "('Ramya', 'Rama Priya', 27, 'F', 9000.0, None)\n",
      "('Sharukh', 'Sheik', 26, 'M', 8300.0, None)\n",
      "('Sarmista', 'Sharma', 26, 'F', 10000.0, None)\n",
      "('Sunil', 'Thapa', 25, 'M', 60000.0, None)\n",
      "('Teja', 'Sharma', 29, 'M', 5000.0, None)\n",
      "('Samir', 'Khanal', 26, 'M', 50000.0, None)\n",
      "('Sushil', 'Basi', 26, 'M', 50000.0, None)\n",
      "('Ram', 'Thapa', 25, 'M', 60000.0, None)\n",
      "('Shyam', 'Sharma', 29, 'M', 5000.0, None)\n"
     ]
    }
   ],
   "source": [
    "print_all_customer()"
   ]
  },
  {
   "cell_type": "code",
   "execution_count": 152,
   "metadata": {},
   "outputs": [],
   "source": [
    "sql = '''\n",
    "ALTER TABLE CUSTOMER\n",
    "DROP EMPLOYEE_ID;\n",
    "'''\n",
    "cursor.execute(sql)\n",
    "conn.commit()"
   ]
  },
  {
   "cell_type": "code",
   "execution_count": 153,
   "metadata": {},
   "outputs": [],
   "source": [
    "sql = '''\n",
    "ALTER TABLE CUSTOMER\n",
    "ADD EMPLOYEE_ID INTEGER;\n",
    "'''\n",
    "cursor.execute(sql)\n",
    "conn.commit()"
   ]
  },
  {
   "cell_type": "code",
   "execution_count": 154,
   "metadata": {},
   "outputs": [
    {
     "name": "stdout",
     "output_type": "stream",
     "text": [
      "('Ramya', 'Rama Priya', 27, 'F', 9000.0, None)\n",
      "('Sharukh', 'Sheik', 26, 'M', 8300.0, None)\n",
      "('Sarmista', 'Sharma', 26, 'F', 10000.0, None)\n",
      "('Sunil', 'Thapa', 25, 'M', 60000.0, None)\n",
      "('Teja', 'Sharma', 29, 'M', 5000.0, None)\n",
      "('Samir', 'Khanal', 26, 'M', 50000.0, None)\n",
      "('Sushil', 'Basi', 26, 'M', 50000.0, None)\n",
      "('Ram', 'Thapa', 25, 'M', 60000.0, None)\n",
      "('Shyam', 'Sharma', 29, 'M', 5000.0, None)\n"
     ]
    }
   ],
   "source": [
    "print_all_customer()"
   ]
  },
  {
   "cell_type": "code",
   "execution_count": 155,
   "metadata": {},
   "outputs": [],
   "source": [
    "max_val = 1\n",
    "cursor.execute('SELECT * FROM CUSTOMER WHERE EMPLOYEE_ID IS NULL')\n",
    "rows = cursor.fetchall()\n",
    "for r in rows:\n",
    "    cursor.execute(\"UPDATE CUSTOMER SET EMPLOYEE_ID = ? WHERE FIRST_NAME = ?\", (max_val, r[0]))\n",
    "    max_val += 1\n"
   ]
  },
  {
   "cell_type": "code",
   "execution_count": 156,
   "metadata": {},
   "outputs": [
    {
     "name": "stdout",
     "output_type": "stream",
     "text": [
      "('Ramya', 'Rama Priya', 27, 'F', 9000.0, 1)\n",
      "('Sharukh', 'Sheik', 26, 'M', 8300.0, 2)\n",
      "('Sarmista', 'Sharma', 26, 'F', 10000.0, 3)\n",
      "('Sunil', 'Thapa', 25, 'M', 60000.0, 4)\n",
      "('Teja', 'Sharma', 29, 'M', 5000.0, 5)\n",
      "('Samir', 'Khanal', 26, 'M', 50000.0, 6)\n",
      "('Sushil', 'Basi', 26, 'M', 50000.0, 7)\n",
      "('Ram', 'Thapa', 25, 'M', 60000.0, 8)\n",
      "('Shyam', 'Sharma', 29, 'M', 5000.0, 9)\n"
     ]
    }
   ],
   "source": [
    "print_all_customer()"
   ]
  },
  {
   "cell_type": "code",
   "execution_count": 158,
   "metadata": {},
   "outputs": [],
   "source": [
    "cursor.execute('''DELETE FROM CUSTOMER WHERE AGE > 25''')\n",
    "conn.commit()"
   ]
  },
  {
   "cell_type": "code",
   "execution_count": 162,
   "metadata": {},
   "outputs": [
    {
     "name": "stdout",
     "output_type": "stream",
     "text": [
      "('Sunil', 'Thapa', 25, 'M', 60000.0, 4)\n",
      "('Ram', 'Thapa', 25, 'M', 60000.0, 8)\n"
     ]
    }
   ],
   "source": [
    "print_all_customer()"
   ]
  },
  {
   "cell_type": "code",
   "execution_count": 171,
   "metadata": {},
   "outputs": [],
   "source": [
    "cursor.execute('''SELECT * FROM CUSTOMER WHERE AGE < 26''')\n",
    "record = cursor.fetchone()[0]\n",
    "cursor.execute('''DELETE FROM CUSTOMER WHERE FIRST_NAME = ?''', (record,))\n",
    "conn.commit()"
   ]
  },
  {
   "cell_type": "code",
   "execution_count": 172,
   "metadata": {},
   "outputs": [
    {
     "name": "stdout",
     "output_type": "stream",
     "text": [
      "('Ram', 'Thapa', 25, 'M', 60000.0, 8)\n"
     ]
    }
   ],
   "source": [
    "print_all_customer()"
   ]
  },
  {
   "cell_type": "code",
   "execution_count": 173,
   "metadata": {},
   "outputs": [],
   "source": [
    "import pandas as pd"
   ]
  },
  {
   "cell_type": "code",
   "execution_count": 175,
   "metadata": {},
   "outputs": [],
   "source": [
    "df = pd.read_sql_query('SELECT * FROM CUSTOMER', conn)"
   ]
  },
  {
   "cell_type": "code",
   "execution_count": 176,
   "metadata": {},
   "outputs": [
    {
     "data": {
      "text/html": [
       "<div>\n",
       "<style scoped>\n",
       "    .dataframe tbody tr th:only-of-type {\n",
       "        vertical-align: middle;\n",
       "    }\n",
       "\n",
       "    .dataframe tbody tr th {\n",
       "        vertical-align: top;\n",
       "    }\n",
       "\n",
       "    .dataframe thead th {\n",
       "        text-align: right;\n",
       "    }\n",
       "</style>\n",
       "<table border=\"1\" class=\"dataframe\">\n",
       "  <thead>\n",
       "    <tr style=\"text-align: right;\">\n",
       "      <th></th>\n",
       "      <th>FIRST_NAME</th>\n",
       "      <th>LAST_NAME</th>\n",
       "      <th>AGE</th>\n",
       "      <th>SEX</th>\n",
       "      <th>INCOME</th>\n",
       "      <th>EMPLOYEE_ID</th>\n",
       "    </tr>\n",
       "  </thead>\n",
       "  <tbody>\n",
       "    <tr>\n",
       "      <th>0</th>\n",
       "      <td>Ram</td>\n",
       "      <td>Thapa</td>\n",
       "      <td>25</td>\n",
       "      <td>M</td>\n",
       "      <td>60000.0</td>\n",
       "      <td>8</td>\n",
       "    </tr>\n",
       "  </tbody>\n",
       "</table>\n",
       "</div>"
      ],
      "text/plain": [
       "  FIRST_NAME LAST_NAME  AGE SEX   INCOME  EMPLOYEE_ID\n",
       "0        Ram     Thapa   25   M  60000.0            8"
      ]
     },
     "execution_count": 176,
     "metadata": {},
     "output_type": "execute_result"
    }
   ],
   "source": [
    "df.head()"
   ]
  },
  {
   "cell_type": "code",
   "execution_count": 178,
   "metadata": {},
   "outputs": [],
   "source": [
    "cursor.execute('''ALTER TABLE CUSTOMER DROP SEX''')\n",
    "conn.commit()"
   ]
  },
  {
   "cell_type": "code",
   "execution_count": 179,
   "metadata": {},
   "outputs": [
    {
     "name": "stdout",
     "output_type": "stream",
     "text": [
      "('Ram', 'Thapa', 25, 60000.0, 8)\n"
     ]
    }
   ],
   "source": [
    "print_all_customer()"
   ]
  },
  {
   "cell_type": "code",
   "execution_count": 180,
   "metadata": {},
   "outputs": [],
   "source": [
    "cursor.execute(\"DROP TABLE CUSTOMER\")\n",
    "conn.commit()"
   ]
  },
  {
   "cell_type": "code",
   "execution_count": null,
   "metadata": {},
   "outputs": [],
   "source": []
  }
 ],
 "metadata": {
  "kernelspec": {
   "display_name": "AML1214",
   "language": "python",
   "name": "python3"
  },
  "language_info": {
   "codemirror_mode": {
    "name": "ipython",
    "version": 3
   },
   "file_extension": ".py",
   "mimetype": "text/x-python",
   "name": "python",
   "nbconvert_exporter": "python",
   "pygments_lexer": "ipython3",
   "version": "3.8.13 (default, Mar 28 2022, 06:13:39) \n[Clang 12.0.0 ]"
  },
  "orig_nbformat": 4,
  "vscode": {
   "interpreter": {
    "hash": "b02a89298884bb2954546ed35ac9a94abe7128f159ea89ab444f5a0856e22eb0"
   }
  }
 },
 "nbformat": 4,
 "nbformat_minor": 2
}
