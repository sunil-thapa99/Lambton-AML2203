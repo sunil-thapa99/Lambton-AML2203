{
 "cells": [
  {
   "cell_type": "code",
   "execution_count": 2,
   "metadata": {},
   "outputs": [],
   "source": [
    "# A-Write a Python program to check if a number is a perfect square\n",
    "\n",
    "def checkSqrt(num):\n",
    "    if num == 1:\n",
    "        return True\n",
    "    half_num = int(num / 2)\n",
    "    for i in range(2, half_num+1):\n",
    "        if i * i == num:\n",
    "            return True\n",
    "    return False"
   ]
  },
  {
   "cell_type": "code",
   "execution_count": 7,
   "metadata": {},
   "outputs": [
    {
     "data": {
      "text/plain": [
       "True"
      ]
     },
     "execution_count": 7,
     "metadata": {},
     "output_type": "execute_result"
    }
   ],
   "source": [
    "checkSqrt(36)"
   ]
  },
  {
   "cell_type": "code",
   "execution_count": 8,
   "metadata": {},
   "outputs": [
    {
     "data": {
      "text/plain": [
       "False"
      ]
     },
     "execution_count": 8,
     "metadata": {},
     "output_type": "execute_result"
    }
   ],
   "source": [
    "checkSqrt(40)"
   ]
  },
  {
   "cell_type": "code",
   "execution_count": 5,
   "metadata": {},
   "outputs": [],
   "source": [
    "'''\n",
    "B- Write a Python program to find a missing number from a list. \n",
    "Input : [1,2,3,4,6,7,8]\n",
    "Output : 5\n",
    "'''\n",
    "\n",
    "def maxNum(num_list):\n",
    "    max_val = num_list[0]\n",
    "    for i in range(1, len(num_list)):\n",
    "        if num_list[i] > max_val:\n",
    "            max_val = num_list[i]\n",
    "    return max_val\n",
    "\n",
    "\n",
    "def checkMissingValue(num_list):\n",
    "    max_num = maxNum(num_list)\n",
    "    for i in range(1, max_num):\n",
    "        if i not in num_list:\n",
    "            print(i)"
   ]
  },
  {
   "cell_type": "code",
   "execution_count": 6,
   "metadata": {},
   "outputs": [
    {
     "name": "stdout",
     "output_type": "stream",
     "text": [
      "5\n"
     ]
    }
   ],
   "source": [
    "checkMissingValue([1,2,3,4,6,7,8])"
   ]
  },
  {
   "cell_type": "code",
   "execution_count": 3,
   "metadata": {},
   "outputs": [],
   "source": [
    "'''\n",
    "C- Write a Python program to find the single number in a list that doesn't occur twice.\n",
    "Input : [5, 3, 4, 3, 4]\n",
    "Output : 5\n",
    "'''\n",
    "\n",
    "def checkDuplicate(num_list):\n",
    "    for i in range(len(num_list)):\n",
    "        count = 0\n",
    "        for j in range(len(num_list)):\n",
    "            if num_list[i] == num_list[j]:\n",
    "                count += 1\n",
    "\n",
    "        if count == 1:\n",
    "            return num_list[i]\n",
    "\n",
    "    return None\n",
    "\n",
    "\n",
    "def checkDuplicateXOR(num_list):\n",
    "    unique = num_list[0]\n",
    "    for i in range(1, len(num_list)):\n",
    "        # XOR operator\n",
    "        '''\n",
    "            5 ^ 3 ^ 4 ^ 3 ^ 4\n",
    "            Since XOR is associative and commutative, above \n",
    "            expression can be written as\n",
    "            5 ^ (3 ^ 3) ^ (4 ^ 4)\n",
    "            5 ^ 0 ^ 0\n",
    "            5\n",
    "\n",
    "            5 ^ 3\n",
    "            101 ^ 011 => 110 => 6\n",
    "            6 ^ 4\n",
    "            110 ^ 100 => 010 => 2\n",
    "            2 ^ 3\n",
    "            010 ^ 011 => 001 => 1\n",
    "            1 ^ 4 \n",
    "            001 ^ 100 => 101 => 5\n",
    "\n",
    "        '''\n",
    "        unique ^= num_list[i]\n",
    "\n",
    "    return unique"
   ]
  },
  {
   "cell_type": "code",
   "execution_count": 12,
   "metadata": {},
   "outputs": [
    {
     "data": {
      "text/plain": [
       "5"
      ]
     },
     "execution_count": 12,
     "metadata": {},
     "output_type": "execute_result"
    }
   ],
   "source": [
    "checkDuplicate([5, 3, 4, 3, 4])"
   ]
  },
  {
   "cell_type": "code",
   "execution_count": 4,
   "metadata": {},
   "outputs": [
    {
     "name": "stdout",
     "output_type": "stream",
     "text": [
      "6 1\n",
      "2 2\n",
      "1 3\n",
      "5 4\n"
     ]
    },
    {
     "data": {
      "text/plain": [
       "5"
      ]
     },
     "execution_count": 4,
     "metadata": {},
     "output_type": "execute_result"
    }
   ],
   "source": [
    "checkDuplicateXOR([5, 3, 4, 3, 4])"
   ]
  },
  {
   "cell_type": "code",
   "execution_count": null,
   "metadata": {},
   "outputs": [],
   "source": []
  }
 ],
 "metadata": {
  "kernelspec": {
   "display_name": "AML1214",
   "language": "python",
   "name": "python3"
  },
  "language_info": {
   "codemirror_mode": {
    "name": "ipython",
    "version": 3
   },
   "file_extension": ".py",
   "mimetype": "text/x-python",
   "name": "python",
   "nbconvert_exporter": "python",
   "pygments_lexer": "ipython3",
   "version": "3.8.13 (default, Mar 28 2022, 06:13:39) \n[Clang 12.0.0 ]"
  },
  "orig_nbformat": 4,
  "vscode": {
   "interpreter": {
    "hash": "b02a89298884bb2954546ed35ac9a94abe7128f159ea89ab444f5a0856e22eb0"
   }
  }
 },
 "nbformat": 4,
 "nbformat_minor": 2
}
