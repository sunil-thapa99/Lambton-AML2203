{
 "cells": [
  {
   "cell_type": "code",
   "execution_count": 11,
   "metadata": {},
   "outputs": [],
   "source": [
    "'''\n",
    "Write a Python program to find the single element in a list where every element appears multiple times except for one.\n",
    "Input : [5, 3, 4, 3, 5, 5, 3],\n",
    "Output : 4\n",
    "\n",
    "'''\n",
    "def unique_val(list_val: list):\n",
    "    uniq_set = set(list_val)\n",
    "    for i in uniq_set:\n",
    "        count_val = list_val.count(i)\n",
    "        if count_val == 1:\n",
    "            return i"
   ]
  },
  {
   "cell_type": "code",
   "execution_count": 12,
   "metadata": {},
   "outputs": [
    {
     "data": {
      "text/plain": [
       "4"
      ]
     },
     "execution_count": 12,
     "metadata": {},
     "output_type": "execute_result"
    }
   ],
   "source": [
    "unique_val([5, 3, 4, 3, 5, 5, 3])"
   ]
  },
  {
   "cell_type": "code",
   "execution_count": 13,
   "metadata": {},
   "outputs": [],
   "source": [
    "'''\n",
    "Write a Python program to compute and return the square root of a given 'integer'. \n",
    "Input : 16\n",
    "Output : 4\n",
    "Note : The returned value will be an 'integer', do not use square root functions from python.\n",
    "'''\n",
    "\n",
    "def sqrt(num):\n",
    "    half_num = num // 2\n",
    "    for i in range(1, half_num+1): \n",
    "        if i*i == num:\n",
    "            return i\n"
   ]
  },
  {
   "cell_type": "code",
   "execution_count": 15,
   "metadata": {},
   "outputs": [
    {
     "data": {
      "text/plain": [
       "5"
      ]
     },
     "execution_count": 15,
     "metadata": {},
     "output_type": "execute_result"
    }
   ],
   "source": [
    "sqrt(25)"
   ]
  },
  {
   "cell_type": "code",
   "execution_count": 16,
   "metadata": {},
   "outputs": [],
   "source": [
    "'''\n",
    "Write a Python program to check a sequence of numbers is a geometric progression or not. \n",
    "Input : [2, 6, 18, 54]\n",
    "Output : True\n",
    "'''\n",
    "\n",
    "def check_geometric_progession(list_val):\n",
    "    ratio = int(list_val[1]/list_val[0])\n",
    "    temp = False\n",
    "    for i in range(1, len(list_val)-1):\n",
    "        if list_val[i+1]/list_val[i] == ratio:\n",
    "            temp = True\n",
    "        else:\n",
    "            temp = False\n",
    "    return temp"
   ]
  },
  {
   "cell_type": "code",
   "execution_count": 20,
   "metadata": {},
   "outputs": [
    {
     "data": {
      "text/plain": [
       "True"
      ]
     },
     "execution_count": 20,
     "metadata": {},
     "output_type": "execute_result"
    }
   ],
   "source": [
    "check_geometric_progession([2, 6, 18, 54])"
   ]
  },
  {
   "cell_type": "code",
   "execution_count": null,
   "metadata": {},
   "outputs": [],
   "source": []
  }
 ],
 "metadata": {
  "kernelspec": {
   "display_name": "AML1214",
   "language": "python",
   "name": "python3"
  },
  "language_info": {
   "codemirror_mode": {
    "name": "ipython",
    "version": 3
   },
   "file_extension": ".py",
   "mimetype": "text/x-python",
   "name": "python",
   "nbconvert_exporter": "python",
   "pygments_lexer": "ipython3",
   "version": "3.8.13 (default, Mar 28 2022, 06:13:39) \n[Clang 12.0.0 ]"
  },
  "orig_nbformat": 4,
  "vscode": {
   "interpreter": {
    "hash": "b02a89298884bb2954546ed35ac9a94abe7128f159ea89ab444f5a0856e22eb0"
   }
  }
 },
 "nbformat": 4,
 "nbformat_minor": 2
}
