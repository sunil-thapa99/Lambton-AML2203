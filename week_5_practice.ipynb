{
 "cells": [
  {
   "cell_type": "code",
   "execution_count": 1,
   "metadata": {},
   "outputs": [],
   "source": [
    "'''\n",
    "Write a Python program to find all the numbers from 0-9 from a string:\n",
    "\n",
    "input: '89ADFRE41'\n",
    "\n",
    "Output :[8941]\n",
    "\n",
    "'''\n",
    "def find_num(input_val: str) -> list:\n",
    "    num_str = ''\n",
    "    for i in input_val:\n",
    "        try:\n",
    "            num_str+=str(int(i))\n",
    "        except:\n",
    "            pass\n",
    "    return [int(num_str)]"
   ]
  },
  {
   "cell_type": "code",
   "execution_count": 2,
   "metadata": {},
   "outputs": [
    {
     "data": {
      "text/plain": [
       "[8941]"
      ]
     },
     "execution_count": 2,
     "metadata": {},
     "output_type": "execute_result"
    }
   ],
   "source": [
    "find_num('89ADFRE41')"
   ]
  },
  {
   "cell_type": "code",
   "execution_count": 3,
   "metadata": {},
   "outputs": [],
   "source": [
    "import re\n",
    "# using regex\n",
    "def find_num(input_val: str) -> list:\n",
    "    digit_num = re.findall(r'\\d', input_val)\n",
    "    digit_num = int(''.join(digit_num))\n",
    "    return [digit_num]\n"
   ]
  },
  {
   "cell_type": "code",
   "execution_count": 4,
   "metadata": {},
   "outputs": [
    {
     "data": {
      "text/plain": [
       "[8941]"
      ]
     },
     "execution_count": 4,
     "metadata": {},
     "output_type": "execute_result"
    }
   ],
   "source": [
    "find_num('89ADFRE41')"
   ]
  },
  {
   "cell_type": "code",
   "execution_count": 5,
   "metadata": {},
   "outputs": [],
   "source": [
    "'''\n",
    "Write a Python program to find two elements once in a list where every element appears exactly n times in the list. \n",
    "Input : [1, 2, 1, 3, 2, 5], 2    (n=2)\n",
    "Output :[5, 3]\n",
    "'''\n",
    "def unique_return(num_list: list, occurence: int) -> list:\n",
    "    num_set = set(num_list)\n",
    "    result = []\n",
    "    for i in num_set:\n",
    "        if num_list.count(i) == 2:\n",
    "            pass\n",
    "        else:\n",
    "            result.append(i)\n",
    "    return result\n"
   ]
  },
  {
   "cell_type": "code",
   "execution_count": 6,
   "metadata": {},
   "outputs": [
    {
     "data": {
      "text/plain": [
       "[3, 5]"
      ]
     },
     "execution_count": 6,
     "metadata": {},
     "output_type": "execute_result"
    }
   ],
   "source": [
    "unique_return([1, 2, 1, 3, 2, 5], 2)"
   ]
  },
  {
   "cell_type": "code",
   "execution_count": 31,
   "metadata": {},
   "outputs": [],
   "source": [
    "'''\n",
    " Write a Python program to reverse the digits of an integer. \n",
    "Input : 234\n",
    "Input : -234\n",
    "Output: 432\n",
    "Output : -432\n",
    "'''\n",
    "import re\n",
    "def reverse_digit(digit: int)-> int:\n",
    "    num = 1 if digit >= 0 else -1\n",
    "    str_digit = str(digit)\n",
    "    digit_num = re.findall(r'\\d', str_digit)\n",
    "    digit_num = ''.join(digit_num)\n",
    "    return num * int(digit_num[len(digit_num)::-1])"
   ]
  },
  {
   "cell_type": "code",
   "execution_count": 32,
   "metadata": {},
   "outputs": [
    {
     "data": {
      "text/plain": [
       "432"
      ]
     },
     "execution_count": 32,
     "metadata": {},
     "output_type": "execute_result"
    }
   ],
   "source": [
    "reverse_digit(234)"
   ]
  },
  {
   "cell_type": "code",
   "execution_count": 33,
   "metadata": {},
   "outputs": [
    {
     "data": {
      "text/plain": [
       "-432"
      ]
     },
     "execution_count": 33,
     "metadata": {},
     "output_type": "execute_result"
    }
   ],
   "source": [
    "reverse_digit(-234)"
   ]
  },
  {
   "cell_type": "code",
   "execution_count": 1,
   "metadata": {},
   "outputs": [],
   "source": [
    "# Matmul\n",
    "def matrix_mul(matrix_a, matrix_b):\n",
    "     \"\"\"\n",
    "     matrix multiplication\n",
    "     :param matrix_a:\n",
    "     :param matrix_b:\n",
    "     :return:\n",
    "     \"\"\"\n",
    "     if matrix_a.shape[1] != matrix_b.shape[0]:\n",
    "          return []\n",
    "     matrix_b = matrix_b.T\n",
    "     matrix_c = np.zeros(matrix_a.shape[1]*matrix_b.shape[0]).reshape(matrix_a.shape[1], matrix_b.shape[0])\n",
    "     \n",
    "     for i in range(matrix_a.shape[0]):\n",
    "          for j in range(matrix_b.shape[1]):\n",
    "               for k in range(len(matrix_c)):\n",
    "                    matrix_c[i, j] += matrix_a[i, k] * matrix_b[j, k]\n",
    "     return matrix_c\n"
   ]
  },
  {
   "cell_type": "code",
   "execution_count": 2,
   "metadata": {},
   "outputs": [],
   "source": [
    "import numpy as np"
   ]
  },
  {
   "cell_type": "code",
   "execution_count": 3,
   "metadata": {},
   "outputs": [
    {
     "data": {
      "text/plain": [
       "array([[19., 22.],\n",
       "       [43., 50.]])"
      ]
     },
     "execution_count": 3,
     "metadata": {},
     "output_type": "execute_result"
    }
   ],
   "source": [
    "matrix_a = np.array([[1, 2], [3, 4]])\n",
    "matrix_b = np.array([[5, 6], [7, 8]])\n",
    "matrix_mul(matrix_a, matrix_b)"
   ]
  },
  {
   "cell_type": "code",
   "execution_count": 4,
   "metadata": {},
   "outputs": [
    {
     "data": {
      "text/plain": [
       "array([[ 3.,  9., 10.],\n",
       "       [ 3.,  9., 10.],\n",
       "       [ 4., 12., 18.]])"
      ]
     },
     "execution_count": 4,
     "metadata": {},
     "output_type": "execute_result"
    }
   ],
   "source": [
    "matrix_a = np.array([[1, 1, 1], [1, 1, 1], [1, 1, 2]])\n",
    "matrix_b = np.array([[1, 3, 1], [1, 3, 1], [1, 3, 8]])\n",
    "matrix_mul(matrix_a, matrix_b)"
   ]
  },
  {
   "cell_type": "code",
   "execution_count": null,
   "metadata": {},
   "outputs": [],
   "source": []
  }
 ],
 "metadata": {
  "kernelspec": {
   "display_name": "AML1214",
   "language": "python",
   "name": "python3"
  },
  "language_info": {
   "codemirror_mode": {
    "name": "ipython",
    "version": 3
   },
   "file_extension": ".py",
   "mimetype": "text/x-python",
   "name": "python",
   "nbconvert_exporter": "python",
   "pygments_lexer": "ipython3",
   "version": "3.8.13"
  },
  "orig_nbformat": 4,
  "vscode": {
   "interpreter": {
    "hash": "b02a89298884bb2954546ed35ac9a94abe7128f159ea89ab444f5a0856e22eb0"
   }
  }
 },
 "nbformat": 4,
 "nbformat_minor": 2
}
