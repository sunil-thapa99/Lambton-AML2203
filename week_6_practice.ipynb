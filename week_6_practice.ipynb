{
 "cells": [
  {
   "cell_type": "code",
   "execution_count": 3,
   "metadata": {},
   "outputs": [],
   "source": [
    "'''\n",
    "1-Write a Python program to check a sequence of numbers is an arithmetic progression or not. \n",
    "Input : [5, 7, 9, 11]\n",
    "Output : True\n",
    "In mathematics, an arithmetic progression or arithmetic sequence is a sequence of numbers such that the difference between the consecutive terms is constant.\n",
    "For example, the sequence 5, 7, 9, 11, 13, 15 ... is an arithmetic progression with common difference of 2.\n",
    "'''\n",
    "\n",
    "def arthmetic_prog(num_list: list) -> bool:\n",
    "    diff = num_list[1] - num_list[0]\n",
    "    for i in range(1, len(num_list)-1):\n",
    "        if num_list[i+1] - num_list[i] != diff:\n",
    "            return False\n",
    "    return True"
   ]
  },
  {
   "cell_type": "code",
   "execution_count": 4,
   "metadata": {},
   "outputs": [
    {
     "data": {
      "text/plain": [
       "True"
      ]
     },
     "execution_count": 4,
     "metadata": {},
     "output_type": "execute_result"
    }
   ],
   "source": [
    "arthmetic_prog([5, 7, 9, 11])"
   ]
  },
  {
   "cell_type": "code",
   "execution_count": 5,
   "metadata": {},
   "outputs": [
    {
     "data": {
      "text/plain": [
       "False"
      ]
     },
     "execution_count": 5,
     "metadata": {},
     "output_type": "execute_result"
    }
   ],
   "source": [
    "arthmetic_prog([5, 7, 9, 12])"
   ]
  },
  {
   "cell_type": "code",
   "execution_count": 10,
   "metadata": {},
   "outputs": [],
   "source": [
    "'''\n",
    "2-Write a Python program to check whether a given number is an ugly number. \n",
    "Input : 12\n",
    "Output : True\n",
    "Ugly numbers are positive numbers whose only prime factors are 2, 3 or 5. The sequence 1, 2, 3, 4, 5, 6, 8, 9, 10, 12, ...\n",
    "shows the first 10 ugly numbers.\n",
    "Note: 1 is typically treated as an ugly number\n",
    "'''\n",
    "\n",
    "def ugly_num(num: int) -> bool:\n",
    "    if num <= 0:\n",
    "        return False\n",
    "    elif num == 1:\n",
    "        return True\n",
    "    while num % 2 == 0:\n",
    "        num /= 2\n",
    "    while num % 3 == 0:\n",
    "        num /= 3\n",
    "    while num % 5 == 0:\n",
    "        num /= 5\n",
    "    \n",
    "    return num == 1"
   ]
  },
  {
   "cell_type": "code",
   "execution_count": 11,
   "metadata": {},
   "outputs": [
    {
     "data": {
      "text/plain": [
       "True"
      ]
     },
     "execution_count": 11,
     "metadata": {},
     "output_type": "execute_result"
    }
   ],
   "source": [
    "ugly_num(12)"
   ]
  },
  {
   "cell_type": "code",
   "execution_count": 12,
   "metadata": {},
   "outputs": [
    {
     "data": {
      "text/plain": [
       "False"
      ]
     },
     "execution_count": 12,
     "metadata": {},
     "output_type": "execute_result"
    }
   ],
   "source": [
    "ugly_num(7)"
   ]
  },
  {
   "cell_type": "code",
   "execution_count": 14,
   "metadata": {},
   "outputs": [],
   "source": [
    "'''\n",
    "3-Write a Python Function to find the single number in a list that doesn't occur n times.\n",
    "Input : [5, 3,3,4, 4, 3, 4], N=3\n",
    "Output : 5\n",
    "'''\n",
    "\n",
    "def find_single_num(num_list: list, N) -> None:\n",
    "    unique_set = set(num_list)\n",
    "    for i in unique_set:\n",
    "        if num_list.count(i) != N:\n",
    "            print(i)"
   ]
  },
  {
   "cell_type": "code",
   "execution_count": 15,
   "metadata": {},
   "outputs": [
    {
     "name": "stdout",
     "output_type": "stream",
     "text": [
      "5\n"
     ]
    }
   ],
   "source": [
    "find_single_num([5, 3,3,4, 4, 3, 4], N=3)"
   ]
  },
  {
   "cell_type": "code",
   "execution_count": 16,
   "metadata": {},
   "outputs": [
    {
     "name": "stdout",
     "output_type": "stream",
     "text": [
      "4\n",
      "5\n"
     ]
    }
   ],
   "source": [
    "find_single_num([5, 3, 3, 4, 3, 4], N=3)"
   ]
  },
  {
   "cell_type": "code",
   "execution_count": null,
   "metadata": {},
   "outputs": [],
   "source": []
  }
 ],
 "metadata": {
  "kernelspec": {
   "display_name": "base",
   "language": "python",
   "name": "python3"
  },
  "language_info": {
   "codemirror_mode": {
    "name": "ipython",
    "version": 3
   },
   "file_extension": ".py",
   "mimetype": "text/x-python",
   "name": "python",
   "nbconvert_exporter": "python",
   "pygments_lexer": "ipython3",
   "version": "3.9.12"
  },
  "orig_nbformat": 4,
  "vscode": {
   "interpreter": {
    "hash": "47d7a3528df19f6d7d5b443030394cb1b3b5540a28bb20dc453d994d1e3e4878"
   }
  }
 },
 "nbformat": 4,
 "nbformat_minor": 2
}
